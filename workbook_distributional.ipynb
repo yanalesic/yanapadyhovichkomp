{
  "cells": [
    {
      "cell_type": "code",
      "execution_count": null,
      "metadata": {
        "colab": {
          "base_uri": "https://localhost:8080/"
        },
        "id": "_fgT4hTzMOaw",
        "outputId": "3be53070-8003-46be-c3ce-4bbc024ceee9"
      },
      "outputs": [
        {
          "output_type": "stream",
          "name": "stdout",
          "text": [
            "--2024-01-28 17:33:20--  https://raw.githubusercontent.com/karpathy/char-rnn/master/data/tinyshakespeare/input.txt\n",
            "Resolving raw.githubusercontent.com (raw.githubusercontent.com)... 185.199.108.133, 185.199.110.133, 185.199.109.133, ...\n",
            "Connecting to raw.githubusercontent.com (raw.githubusercontent.com)|185.199.108.133|:443... connected.\n",
            "HTTP request sent, awaiting response... 200 OK\n",
            "Length: 1115394 (1.1M) [text/plain]\n",
            "Saving to: ‘input.txt’\n",
            "\n",
            "input.txt           100%[===================>]   1.06M  --.-KB/s    in 0.03s   \n",
            "\n",
            "2024-01-28 17:33:20 (31.7 MB/s) - ‘input.txt’ saved [1115394/1115394]\n",
            "\n"
          ]
        }
      ],
      "source": [
        "!wget https://raw.githubusercontent.com/karpathy/char-rnn/master/data/tinyshakespeare/input.txt"
      ]
    },
    {
      "cell_type": "code",
      "execution_count": null,
      "metadata": {
        "colab": {
          "base_uri": "https://localhost:8080/",
          "height": 35
        },
        "id": "gMxeYQ4XYT3Y",
        "outputId": "8f7c934e-1528-42e1-f630-63db45f2402e"
      },
      "outputs": [
        {
          "output_type": "execute_result",
          "data": {
            "text/plain": [
              "'First Citizen:\\nBefore we proceed any further, hear me speak.\\n\\nAll:\\nSpeak, speak.\\n\\nFirst Citizen:\\nYou'"
            ],
            "application/vnd.google.colaboratory.intrinsic+json": {
              "type": "string"
            }
          },
          "metadata": {},
          "execution_count": 2
        }
      ],
      "source": [
        "file_path = 'input.txt'\n",
        "\n",
        "with open(file_path, 'r') as file:\n",
        "    text_content = file.read()\n",
        "\n",
        "text_content[:100]"
      ]
    },
    {
      "cell_type": "code",
      "execution_count": null,
      "metadata": {
        "colab": {
          "base_uri": "https://localhost:8080/",
          "height": 35
        },
        "id": "p7JA0zb8Yx4n",
        "outputId": "a1eabbd9-49d0-4498-b841-2c144dd80716"
      },
      "outputs": [
        {
          "output_type": "execute_result",
          "data": {
            "text/plain": [
              "'first citizen before we proceed any further hear me speak all speak speak first citizen you are all '"
            ],
            "application/vnd.google.colaboratory.intrinsic+json": {
              "type": "string"
            }
          },
          "metadata": {},
          "execution_count": 3
        }
      ],
      "source": [
        "import re\n",
        "\n",
        "def clean_text(text):\n",
        "    text = text.lower()\n",
        "    text = re.sub(r'[^a-z\\s]', '', text)\n",
        "    text = re.sub(r'\\s+', ' ', text).strip()\n",
        "\n",
        "    return text\n",
        "\n",
        "cleaned_text = clean_text(text_content)\n",
        "\n",
        "cleaned_text[:100]"
      ]
    },
    {
      "cell_type": "code",
      "execution_count": null,
      "metadata": {
        "colab": {
          "base_uri": "https://localhost:8080/"
        },
        "id": "l9FpkVl3Z9yU",
        "outputId": "a1be732c-fea6-454b-f006-f7cd0e6b2e92"
      },
      "outputs": [
        {
          "output_type": "stream",
          "name": "stderr",
          "text": [
            "[nltk_data] Downloading package punkt to /root/nltk_data...\n",
            "[nltk_data]   Unzipping tokenizers/punkt.zip.\n"
          ]
        },
        {
          "output_type": "execute_result",
          "data": {
            "text/plain": [
              "['first',\n",
              " 'citizen',\n",
              " 'before',\n",
              " 'we',\n",
              " 'proceed',\n",
              " 'any',\n",
              " 'further',\n",
              " 'hear',\n",
              " 'me',\n",
              " 'speak']"
            ]
          },
          "metadata": {},
          "execution_count": 4
        }
      ],
      "source": [
        "import nltk\n",
        "from nltk.tokenize import word_tokenize\n",
        "\n",
        "nltk.download('punkt')\n",
        "\n",
        "tokens = word_tokenize(cleaned_text)\n",
        "\n",
        "tokens[:10]"
      ]
    },
    {
      "cell_type": "code",
      "source": [
        "import nltk\n",
        "nltk.download('stopwords')\n",
        "from nltk.corpus import stopwords\n",
        "english_stopwords = stopwords.words(\"english\")\n",
        "text_tokens = [token.strip() for token in tokens if token not in english_stopwords]"
      ],
      "metadata": {
        "colab": {
          "base_uri": "https://localhost:8080/"
        },
        "id": "43wUqWd6JFrw",
        "outputId": "affdc905-b7c7-42d7-9b0a-321dd02778c2"
      },
      "execution_count": null,
      "outputs": [
        {
          "output_type": "stream",
          "name": "stderr",
          "text": [
            "[nltk_data] Downloading package stopwords to /root/nltk_data...\n",
            "[nltk_data]   Unzipping corpora/stopwords.zip.\n"
          ]
        }
      ]
    },
    {
      "cell_type": "code",
      "execution_count": null,
      "metadata": {
        "id": "OqaNVtsEaWZP"
      },
      "outputs": [],
      "source": [
        "from gensim.models import Word2Vec\n",
        "\n",
        "model = Word2Vec(sentences=[tokens], vector_size=100, window=5, min_count=1, workers=4)"
      ]
    },
    {
      "cell_type": "code",
      "execution_count": null,
      "metadata": {
        "colab": {
          "base_uri": "https://localhost:8080/"
        },
        "id": "xe6LTqHZcuxT",
        "outputId": "b2867fa4-2f20-4d82-b1dd-d77b609af29b"
      },
      "outputs": [
        {
          "output_type": "execute_result",
          "data": {
            "text/plain": [
              "array([ 3.0993388e-04,  2.4344164e-03, -1.4234134e-03,  3.3902135e-04,\n",
              "       -5.0136447e-04, -1.6091732e-02,  3.2627941e-03,  2.2791972e-02,\n",
              "       -1.1042583e-02, -1.7762078e-02, -3.6597378e-03, -1.5405690e-03,\n",
              "       -9.7852349e-03,  1.2478584e-02,  2.5990354e-03, -7.2583784e-03,\n",
              "       -4.4826027e-03, -1.3544309e-02,  2.0077960e-03,  3.9538628e-04,\n",
              "       -1.4317234e-03, -5.3780270e-04,  4.8290375e-03, -1.4868095e-04,\n",
              "        5.2706026e-03, -3.7946037e-03, -1.5596629e-04, -1.3292088e-02,\n",
              "       -6.4670295e-03,  1.0294678e-02,  7.8338804e-03, -1.2208835e-02,\n",
              "        2.7726702e-03, -1.1601759e-02, -5.0268029e-03,  1.0403274e-02,\n",
              "       -9.2993993e-03,  3.2981781e-03,  7.1992739e-03, -1.4952275e-02,\n",
              "       -8.3959708e-03, -8.6815543e-03, -1.3961735e-03,  1.2780608e-03,\n",
              "        9.4627552e-03, -3.8420085e-03, -6.9499738e-03,  1.9297763e-03,\n",
              "       -2.6639791e-03,  2.8018560e-04,  1.7777625e-03, -5.7056342e-05,\n",
              "       -4.2708353e-03, -5.7700970e-03,  1.5772636e-03, -8.5923343e-04,\n",
              "       -5.2646836e-03, -7.8322692e-03, -5.4979222e-03,  1.8600816e-03,\n",
              "       -7.0923138e-03, -2.0586844e-03, -5.1315110e-03,  2.2146930e-03,\n",
              "       -3.2719672e-03,  6.9216047e-03,  4.1402467e-03,  7.5688050e-03,\n",
              "       -3.0385186e-03, -2.6886987e-03,  1.2871214e-03,  4.4927471e-03,\n",
              "       -2.4140241e-04, -4.4392608e-04,  1.2146349e-02, -3.5404672e-03,\n",
              "       -7.4991728e-03, -3.6069253e-04, -6.3764793e-04, -1.4640884e-03,\n",
              "        2.8981576e-03, -5.6253141e-03,  2.3238172e-03, -3.3463200e-03,\n",
              "        5.5078063e-03, -3.8712955e-04,  5.3859921e-03, -1.4961079e-05,\n",
              "        1.5276589e-02,  7.6979902e-03,  1.7742654e-03, -4.5687906e-03,\n",
              "        5.1088710e-03, -5.7081031e-03,  1.4854994e-04,  6.7013740e-03,\n",
              "       -6.0165054e-03, -1.0192070e-02,  1.4410301e-02, -4.1362657e-03],\n",
              "      dtype=float32)"
            ]
          },
          "metadata": {},
          "execution_count": 8
        }
      ],
      "source": [
        "model.wv['king']"
      ]
    },
    {
      "cell_type": "markdown",
      "metadata": {
        "id": "12Mv1ep9loUV"
      },
      "source": [
        "![image.png](data:image/png;base64,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)\n",
        "\n",
        "StandingFuture, CC BY-SA 4.0 <https://creativecommons.org/licenses/by-sa/4.0>, via Wikimedia Commons"
      ]
    },
    {
      "cell_type": "code",
      "execution_count": null,
      "metadata": {
        "colab": {
          "base_uri": "https://localhost:8080/"
        },
        "id": "NUZfHvbPiKyr",
        "outputId": "2143af46-5c07-4ea6-9b5f-b2f5be255c3c"
      },
      "outputs": [
        {
          "output_type": "execute_result",
          "data": {
            "text/plain": [
              "[('seen', 0.6131981015205383),\n",
              " ('youth', 0.6103989481925964),\n",
              " ('since', 0.6095167994499207),\n",
              " ('oer', 0.6086562871932983),\n",
              " ('merit', 0.6057994961738586),\n",
              " ('call', 0.6040176153182983),\n",
              " ('fathers', 0.599946141242981),\n",
              " ('best', 0.5997427701950073),\n",
              " ('custom', 0.5994468331336975),\n",
              " ('devise', 0.5908424258232117)]"
            ]
          },
          "metadata": {},
          "execution_count": 9
        }
      ],
      "source": [
        "model.wv.most_similar([\"king\"])"
      ]
    },
    {
      "cell_type": "code",
      "execution_count": null,
      "metadata": {
        "colab": {
          "base_uri": "https://localhost:8080/"
        },
        "id": "uKsvnekCjUGB",
        "outputId": "10565fcc-f9bd-4501-cf7b-1ef9f93deac3"
      },
      "outputs": [
        {
          "output_type": "execute_result",
          "data": {
            "text/plain": [
              "-0.029355673"
            ]
          },
          "metadata": {},
          "execution_count": 10
        }
      ],
      "source": [
        "model.wv.similarity('king', 'queen')"
      ]
    },
    {
      "cell_type": "code",
      "execution_count": null,
      "metadata": {
        "colab": {
          "base_uri": "https://localhost:8080/"
        },
        "id": "icXoXXLWjXcU",
        "outputId": "826ae813-29d9-4834-a3a6-a19ab65f70f2"
      },
      "outputs": [
        {
          "output_type": "execute_result",
          "data": {
            "text/plain": [
              "0.027135193"
            ]
          },
          "metadata": {},
          "execution_count": 11
        }
      ],
      "source": [
        "model.wv.similarity('king', 'prince')"
      ]
    },
    {
      "cell_type": "code",
      "execution_count": null,
      "metadata": {
        "colab": {
          "base_uri": "https://localhost:8080/",
          "height": 35
        },
        "id": "muql6TUnjvKA",
        "outputId": "92def669-3656-4583-b95c-1cf47cb80a07"
      },
      "outputs": [
        {
          "output_type": "execute_result",
          "data": {
            "text/plain": [
              "'queen'"
            ],
            "application/vnd.google.colaboratory.intrinsic+json": {
              "type": "string"
            }
          },
          "metadata": {},
          "execution_count": 12
        }
      ],
      "source": [
        "model.wv.doesnt_match(['king', 'prince', 'queen'])"
      ]
    },
    {
      "cell_type": "code",
      "source": [
        "import matplotlib.pyplot as plt\n",
        "plt.style.use('seaborn-v0_8')\n",
        "\n",
        "from sklearn.decomposition import PCA"
      ],
      "metadata": {
        "id": "tPKUSN80e0EA"
      },
      "execution_count": null,
      "outputs": []
    },
    {
      "cell_type": "code",
      "source": [
        "def pca_scatterplot(model, words=None, sample=0):\n",
        "  word_vectors = [model.wv[w] for w in words]\n",
        "  vectors_2d = PCA().fit_transform(word_vectors)\n",
        "  plt.figure(figsize=(12,10))\n",
        "  plt.scatter(vectors_2d[:,0], vectors_2d[:,1], c='g')\n",
        "  for i, word in enumerate(words):\n",
        "    plt.annotate(word, (vectors_2d[i, 0], vectors_2d[i, 1]))"
      ],
      "metadata": {
        "id": "-XQnwy42e5ru"
      },
      "execution_count": null,
      "outputs": []
    },
    {
      "cell_type": "code",
      "source": [
        "pca_scatterplot(model, ['smart', 'handsome', 'beautiful', 'kind', 'gentle', 'old', 'young',\n",
        "                                'prince', 'princess', 'lady', 'king', 'queen', 'lord'])"
      ],
      "metadata": {
        "colab": {
          "base_uri": "https://localhost:8080/",
          "height": 787
        },
        "id": "CkT37h7Ke9jA",
        "outputId": "2d9b8185-0916-40b1-fcf7-03f4d65fe90e"
      },
      "execution_count": null,
      "outputs": [
        {
          "output_type": "display_data",
          "data": {
            "text/plain": [
              "<Figure size 1200x1000 with 1 Axes>"
            ],
            "image/png": "[encoded data removed]"
          },
          "metadata": {}
        }
      ]
    }
  ],
  "metadata": {
    "colab": {
      "collapsed_sections": [
        "nO3bXBygoQM5",
        "AUWFvvLHoTgC",
        "DpSEGmgYoWid",
        "8yo-qD3Poe8u",
        "h1bu4sMVooOJ"
      ],
      "toc_visible": true,
      "provenance": []
    },
    "kernelspec": {
      "display_name": "Python 3",
      "name": "python3"
    },
    "language_info": {
      "name": "python"
    }
  },
  "nbformat": 4,
  "nbformat_minor": 0
}